{
 "cells": [
  {
   "cell_type": "code",
   "execution_count": 1,
   "outputs": [],
   "source": [
    "import os\n",
    "import sys\n",
    "import networkx\n",
    "import numpy as np\n",
    "import matplotlib.pyplot as plt\n",
    "from matplotlib import style\n",
    "import graph"
   ],
   "metadata": {
    "collapsed": false,
    "pycharm": {
     "name": "#%%\n"
    }
   }
  },
  {
   "cell_type": "markdown",
   "source": [
    "# read graphs"
   ],
   "metadata": {
    "collapsed": false,
    "pycharm": {
     "name": "#%% md\n"
    }
   }
  },
  {
   "cell_type": "code",
   "execution_count": 2,
   "outputs": [
    {
     "data": {
      "text/plain": "31055"
     },
     "execution_count": 2,
     "metadata": {},
     "output_type": "execute_result"
    }
   ],
   "source": [
    "path = '/Users/fy/Documents/CCSDATA/base'\n",
    "atom_dirs = graph.list_atom_dirs(path)\n",
    "len(atom_dirs)"
   ],
   "metadata": {
    "collapsed": false,
    "pycharm": {
     "name": "#%%\n"
    }
   }
  },
  {
   "cell_type": "code",
   "execution_count": 3,
   "outputs": [
    {
     "data": {
      "text/plain": "31055"
     },
     "execution_count": 3,
     "metadata": {},
     "output_type": "execute_result"
    }
   ],
   "source": [
    "method_diffs = [graph.MethodDiff(x) for x in atom_dirs]\n",
    "len(method_diffs)"
   ],
   "metadata": {
    "collapsed": false,
    "pycharm": {
     "name": "#%%\n"
    }
   }
  },
  {
   "cell_type": "markdown",
   "source": [
    "# graphs size stats"
   ],
   "metadata": {
    "collapsed": false,
    "pycharm": {
     "name": "#%% md\n"
    }
   }
  },
  {
   "cell_type": "code",
   "execution_count": 4,
   "outputs": [
    {
     "data": {
      "text/plain": "(27733, 25218)"
     },
     "execution_count": 4,
     "metadata": {},
     "output_type": "execute_result"
    }
   ],
   "source": [
    "graphs1 = []\n",
    "graphs2 = []\n",
    "for x in method_diffs:\n",
    "    if x.pdg1 is not None:\n",
    "        graphs1.append(x.pdg1)\n",
    "    if x.pdg2 is not None:\n",
    "        graphs2.append(x.pdg2)\n",
    "len(graphs1), len(graphs2)"
   ],
   "metadata": {
    "collapsed": false,
    "pycharm": {
     "name": "#%%\n"
    }
   }
  },
  {
   "cell_type": "code",
   "execution_count": 5,
   "outputs": [
    {
     "data": {
      "text/plain": "<Figure size 640x480 with 1 Axes>",
      "image/png": "[encoded data removed]"
     },
     "metadata": {},
     "output_type": "display_data"
    }
   ],
   "source": [
    "nodes_size1 = [len(x.nodes()) for x in graphs1]\n",
    "nodes_size2 = [len(x.nodes()) for x in graphs2]\n",
    "style.use('ggplot')\n",
    "plt.plot(range(len(nodes_size1)), nodes_size1)\n",
    "plt.show()"
   ],
   "metadata": {
    "collapsed": false,
    "pycharm": {
     "name": "#%%\n"
    }
   }
  },
  {
   "cell_type": "code",
   "execution_count": 6,
   "outputs": [
    {
     "name": "stdout",
     "output_type": "stream",
     "text": [
      "avg: 11.964879, min: 1, max: 139, mid: 9, mode: 2, mode_count: 3378\n"
     ]
    }
   ],
   "source": [
    "graph.print_size_stats(nodes_size1)"
   ],
   "metadata": {
    "collapsed": false,
    "pycharm": {
     "name": "#%%\n"
    }
   }
  },
  {
   "cell_type": "code",
   "execution_count": 7,
   "outputs": [
    {
     "name": "stdout",
     "output_type": "stream",
     "text": [
      "avg: 12.774962, min: 1, max: 139, mid: 9, mode: 2, mode_count: 2278\n"
     ]
    }
   ],
   "source": [
    "graph.print_size_stats(nodes_size2)"
   ],
   "metadata": {
    "collapsed": false,
    "pycharm": {
     "name": "#%%\n"
    }
   }
  },
  {
   "cell_type": "code",
   "execution_count": 8,
   "outputs": [
    {
     "data": {
      "text/plain": "array([   0,  405, 3378, 1514, 1726, 1833, 1786, 1686, 1500, 1322, 1218,\n       1046,  996,  920,  709,  746,  699,  543,  513,  480,  441,  338,\n        342,  284,  250,  256,  212,  244,  208,  195,  164,  115,  119,\n        106,   87,  100,  101,   68,   74,   73,   93,   63,   60,   56,\n         48,   51,   33,   18,   36,   37,   19,   31,   25,   29,   21,\n         16,    9,   18,   22,   18,   26,   23,   21,    8,   15,   12,\n          6,    5,    3,    6,    9,    8,    5,   12,   14,    7,    6,\n          3,    2,    2,    0,    0,    0,    0,    0,    1,    1,    1,\n          1,    2,    0,    0,    0,    2,    1,    1,    1,    1,    1,\n          1,    1,    1,    0,    0,    0,    0,    1,    0,    0,    0,\n          1,    2,    0,    1,    1,    0,    1,    0,    1,    0,    1,\n          0,    0,    0,    1,    1,    0,    1,    0,    1,    0,    1,\n          2,    0,    4,    1,    2,    0,    0,    1])"
     },
     "execution_count": 8,
     "metadata": {},
     "output_type": "execute_result"
    }
   ],
   "source": [
    "counts = np.bincount(nodes_size1)\n",
    "counts"
   ],
   "metadata": {
    "collapsed": false,
    "pycharm": {
     "name": "#%%\n"
    }
   }
  },
  {
   "cell_type": "code",
   "execution_count": 9,
   "outputs": [
    {
     "data": {
      "text/plain": "5"
     },
     "execution_count": 9,
     "metadata": {},
     "output_type": "execute_result"
    }
   ],
   "source": [
    "np.argsort(counts)[-2]"
   ],
   "metadata": {
    "collapsed": false,
    "pycharm": {
     "name": "#%%\n"
    }
   }
  },
  {
   "cell_type": "markdown",
   "source": [
    "### slices size stats"
   ],
   "metadata": {
    "collapsed": false,
    "pycharm": {
     "name": "#%% md\n"
    }
   }
  },
  {
   "cell_type": "code",
   "execution_count": 10,
   "outputs": [
    {
     "data": {
      "text/plain": "(29804, 29889)"
     },
     "execution_count": 10,
     "metadata": {},
     "output_type": "execute_result"
    }
   ],
   "source": [
    "slices1 = []\n",
    "slices2 = []\n",
    "for x in method_diffs:\n",
    "    if len(x.slices1) > 0:\n",
    "        for s in x.slices1:\n",
    "            slices1.append(s)\n",
    "    if len(x.slices2) > 0:\n",
    "        for s in x.slices2:\n",
    "            slices2.append(s)\n",
    "len(slices1), len(slices2)"
   ],
   "metadata": {
    "collapsed": false,
    "pycharm": {
     "name": "#%%\n"
    }
   }
  },
  {
   "cell_type": "code",
   "execution_count": 11,
   "outputs": [
    {
     "data": {
      "text/plain": "<Figure size 640x480 with 1 Axes>",
      "image/png": "[encoded data removed]"
     },
     "metadata": {},
     "output_type": "display_data"
    }
   ],
   "source": [
    "slices_size1 = [len(x.nodes()) for x in slices1]\n",
    "slices_size2 = [len(x.nodes()) for x in slices2]\n",
    "style.use('ggplot')\n",
    "plt.plot(range(len(slices_size1)), slices_size1)\n",
    "plt.show()"
   ],
   "metadata": {
    "collapsed": false,
    "pycharm": {
     "name": "#%%\n"
    }
   }
  },
  {
   "cell_type": "code",
   "execution_count": 12,
   "outputs": [
    {
     "name": "stdout",
     "output_type": "stream",
     "text": [
      "avg: 3.773889, min: 1, max: 70, mid: 2, mode: 1, mode_count: 3600\n"
     ]
    }
   ],
   "source": [
    "graph.print_size_stats(slices_size1)"
   ],
   "metadata": {
    "collapsed": false,
    "pycharm": {
     "name": "#%%\n"
    }
   }
  },
  {
   "cell_type": "code",
   "execution_count": 13,
   "outputs": [
    {
     "name": "stdout",
     "output_type": "stream",
     "text": [
      "top 1 stat: 1, top 1 rate: 0.389109\n",
      "top 2 stat: 2, top 2 rate: 0.120789\n",
      "top 3 stat: 3, top 3 rate: 0.111797\n"
     ]
    }
   ],
   "source": [
    "graph.print_stats_rate(slices_size1)"
   ],
   "metadata": {
    "collapsed": false,
    "pycharm": {
     "name": "#%%\n"
    }
   }
  },
  {
   "cell_type": "code",
   "execution_count": 14,
   "outputs": [],
   "source": [
    "counts = np.bincount(slices_size1)"
   ],
   "metadata": {
    "collapsed": false,
    "pycharm": {
     "name": "#%%\n"
    }
   }
  },
  {
   "cell_type": "code",
   "execution_count": 15,
   "outputs": [
    {
     "data": {
      "text/plain": "array([    0, 11597,  3600,  3332,  2687,  2014,  1635,  1253,   801,\n         652,   510,   347,   262,   181,   213,   126,    98,   104,\n          60,    64,    39,    30,    27,    13,    16,    13,    20,\n          11,    16,    19,    18,    14,     2,     4,     3,     2,\n           4,     3,     2,     0,     0,     1,     3,     1,     0,\n           0,     0,     0,     1,     0,     0,     2,     2,     0,\n           0,     0,     1,     0,     0,     0,     0,     0,     0,\n           0,     0,     0,     0,     0,     0,     0,     1])"
     },
     "execution_count": 15,
     "metadata": {},
     "output_type": "execute_result"
    }
   ],
   "source": [
    "counts"
   ],
   "metadata": {
    "collapsed": false,
    "pycharm": {
     "name": "#%%\n"
    }
   }
  },
  {
   "cell_type": "code",
   "execution_count": 15,
   "outputs": [],
   "source": [],
   "metadata": {
    "collapsed": false,
    "pycharm": {
     "name": "#%%\n"
    }
   }
  }
 ],
 "metadata": {
  "kernelspec": {
   "display_name": "Python 3",
   "language": "python",
   "name": "python3"
  },
  "language_info": {
   "codemirror_mode": {
    "name": "ipython",
    "version": 2
   },
   "file_extension": ".py",
   "mimetype": "text/x-python",
   "name": "python",
   "nbconvert_exporter": "python",
   "pygments_lexer": "ipython2",
   "version": "2.7.6"
  }
 },
 "nbformat": 4,
 "nbformat_minor": 0
}